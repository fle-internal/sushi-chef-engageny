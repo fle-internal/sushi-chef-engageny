{
 "cells": [
  {
   "cell_type": "code",
   "execution_count": 1,
   "metadata": {
    "collapsed": true
   },
   "outputs": [],
   "source": [
    "import json\n",
    "import logging\n",
    "import os\n",
    "\n",
    "from bs4 import BeautifulSoup\n",
    "import requests\n",
    "import ricecooker\n",
    "\n",
    "from engageny_chef import get_text, get_parsed_html_from_url, make_fully_qualified_url\n",
    "from engageny_chef import ENGAGENY_CC_START_URL\n",
    "from engageny_chef import DATA_DIR, TREES_DATA_DIR, CRAWLING_STAGE_OUTPUT\n",
    "from engageny_chef import LOGGER\n",
    "LOGGER.addHandler(logging.StreamHandler())  # needed for logging in to work in notebook\n",
    "\n",
    "import pprint\n",
    "pp = pprint.PrettyPrinter(indent=4, width=80)"
   ]
  },
  {
   "cell_type": "code",
   "execution_count": null,
   "metadata": {
    "collapsed": true
   },
   "outputs": [],
   "source": []
  },
  {
   "cell_type": "code",
   "execution_count": null,
   "metadata": {
    "collapsed": true
   },
   "outputs": [],
   "source": []
  },
  {
   "cell_type": "code",
   "execution_count": 2,
   "metadata": {},
   "outputs": [
    {
     "name": "stderr",
     "output_type": "stream",
     "text": [
      "Starting new HTTPS connection (1): www.engageny.org\n",
      "https://www.engageny.org:443 \"GET /common-core-curriculum HTTP/1.1\" 200 12228\n",
      "--- Logging error ---\n",
      "Traceback (most recent call last):\n",
      "  File \"/usr/local/Cellar/python3/3.6.2/Frameworks/Python.framework/Versions/3.6/lib/python3.6/logging/__init__.py\", line 992, in emit\n",
      "    msg = self.format(record)\n",
      "  File \"/usr/local/Cellar/python3/3.6.2/Frameworks/Python.framework/Versions/3.6/lib/python3.6/logging/__init__.py\", line 838, in format\n",
      "    return fmt.format(record)\n",
      "  File \"/usr/local/Cellar/python3/3.6.2/Frameworks/Python.framework/Versions/3.6/lib/python3.6/logging/__init__.py\", line 575, in format\n",
      "    record.message = record.getMessage()\n",
      "  File \"/usr/local/Cellar/python3/3.6.2/Frameworks/Python.framework/Versions/3.6/lib/python3.6/logging/__init__.py\", line 338, in getMessage\n",
      "    msg = msg % self.args\n",
      "TypeError: not all arguments converted during string formatting\n",
      "Call stack:\n",
      "  File \"/usr/local/Cellar/python3/3.6.2/Frameworks/Python.framework/Versions/3.6/lib/python3.6/runpy.py\", line 193, in _run_module_as_main\n",
      "    \"__main__\", mod_spec)\n",
      "  File \"/usr/local/Cellar/python3/3.6.2/Frameworks/Python.framework/Versions/3.6/lib/python3.6/runpy.py\", line 85, in _run_code\n",
      "    exec(code, run_globals)\n",
      "  File \"/Users/cesar/src/sushi-chef-engageny/venv/lib/python3.6/site-packages/ipykernel_launcher.py\", line 16, in <module>\n",
      "    app.launch_new_instance()\n",
      "  File \"/Users/cesar/src/sushi-chef-engageny/venv/lib/python3.6/site-packages/traitlets/config/application.py\", line 658, in launch_instance\n",
      "    app.start()\n",
      "  File \"/Users/cesar/src/sushi-chef-engageny/venv/lib/python3.6/site-packages/ipykernel/kernelapp.py\", line 477, in start\n",
      "    ioloop.IOLoop.instance().start()\n",
      "  File \"/Users/cesar/src/sushi-chef-engageny/venv/lib/python3.6/site-packages/zmq/eventloop/ioloop.py\", line 177, in start\n",
      "    super(ZMQIOLoop, self).start()\n",
      "  File \"/Users/cesar/src/sushi-chef-engageny/venv/lib/python3.6/site-packages/tornado/ioloop.py\", line 888, in start\n",
      "    handler_func(fd_obj, events)\n",
      "  File \"/Users/cesar/src/sushi-chef-engageny/venv/lib/python3.6/site-packages/tornado/stack_context.py\", line 277, in null_wrapper\n",
      "    return fn(*args, **kwargs)\n",
      "  File \"/Users/cesar/src/sushi-chef-engageny/venv/lib/python3.6/site-packages/zmq/eventloop/zmqstream.py\", line 440, in _handle_events\n",
      "    self._handle_recv()\n",
      "  File \"/Users/cesar/src/sushi-chef-engageny/venv/lib/python3.6/site-packages/zmq/eventloop/zmqstream.py\", line 472, in _handle_recv\n",
      "    self._run_callback(callback, msg)\n",
      "  File \"/Users/cesar/src/sushi-chef-engageny/venv/lib/python3.6/site-packages/zmq/eventloop/zmqstream.py\", line 414, in _run_callback\n",
      "    callback(*args, **kwargs)\n",
      "  File \"/Users/cesar/src/sushi-chef-engageny/venv/lib/python3.6/site-packages/tornado/stack_context.py\", line 277, in null_wrapper\n",
      "    return fn(*args, **kwargs)\n",
      "  File \"/Users/cesar/src/sushi-chef-engageny/venv/lib/python3.6/site-packages/ipykernel/kernelbase.py\", line 283, in dispatcher\n",
      "    return self.dispatch_shell(stream, msg)\n",
      "  File \"/Users/cesar/src/sushi-chef-engageny/venv/lib/python3.6/site-packages/ipykernel/kernelbase.py\", line 235, in dispatch_shell\n",
      "    handler(stream, idents, msg)\n",
      "  File \"/Users/cesar/src/sushi-chef-engageny/venv/lib/python3.6/site-packages/ipykernel/kernelbase.py\", line 399, in execute_request\n",
      "    user_expressions, allow_stdin)\n",
      "  File \"/Users/cesar/src/sushi-chef-engageny/venv/lib/python3.6/site-packages/ipykernel/ipkernel.py\", line 196, in do_execute\n",
      "    res = shell.run_cell(code, store_history=store_history, silent=silent)\n",
      "  File \"/Users/cesar/src/sushi-chef-engageny/venv/lib/python3.6/site-packages/ipykernel/zmqshell.py\", line 533, in run_cell\n",
      "    return super(ZMQInteractiveShell, self).run_cell(*args, **kwargs)\n",
      "  File \"/Users/cesar/src/sushi-chef-engageny/venv/lib/python3.6/site-packages/IPython/core/interactiveshell.py\", line 2698, in run_cell\n",
      "    interactivity=interactivity, compiler=compiler, result=result)\n",
      "  File \"/Users/cesar/src/sushi-chef-engageny/venv/lib/python3.6/site-packages/IPython/core/interactiveshell.py\", line 2802, in run_ast_nodes\n",
      "    if self.run_code(code, result):\n",
      "  File \"/Users/cesar/src/sushi-chef-engageny/venv/lib/python3.6/site-packages/IPython/core/interactiveshell.py\", line 2862, in run_code\n",
      "    exec(code_obj, self.user_global_ns, self.user_ns)\n",
      "  File \"<ipython-input-2-82340a2b7f6d>\", line 2, in <module>\n",
      "    doc = get_parsed_html_from_url(ENGAGENY_CC_START_URL)\n",
      "  File \"/Users/cesar/src/sushi-chef-engageny/notebooks/engageny_chef.py\", line 75, in get_parsed_html_from_url\n",
      "    LOGGER.debug(\"NOT CACHED:\", url)\n",
      "Message: 'NOT CACHED:'\n",
      "Arguments: ('https://www.engageny.org/common-core-curriculum',)\n"
     ]
    },
    {
     "data": {
      "text/plain": [
       "14"
      ]
     },
     "execution_count": 2,
     "metadata": {},
     "output_type": "execute_result"
    }
   ],
   "source": [
    "# basic reconaissance ... \n",
    "doc = get_parsed_html_from_url(ENGAGENY_CC_START_URL)\n",
    "\n",
    "dual_toc_div = doc.find('div', id='mini-panel-common_core_curriculum')\n",
    "ELA_toc = dual_toc_div.find('div', class_='panel-col-first')\n",
    "MATH_toc = dual_toc_div.find('div', class_='panel-col-last')\n",
    "MATH_grades_lis = MATH_toc.find_all('li')\n",
    "len(MATH_grades_lis)"
   ]
  },
  {
   "cell_type": "code",
   "execution_count": 3,
   "metadata": {},
   "outputs": [
    {
     "name": "stdout",
     "output_type": "stream",
     "text": [
      "Grade: Prekindergarten Mathematics grade_url = https://www.engageny.org/content/prekindergarten-mathematics\n",
      "Grade: Kindergarten Mathematics grade_url = https://www.engageny.org/resource/kindergarten-mathematics\n",
      "Grade: Grade 1 Mathematics grade_url = https://www.engageny.org/resource/grade-1-mathematics\n",
      "Grade: Grade 2 Mathematics grade_url = https://www.engageny.org/resource/grade-2-mathematics\n",
      "Grade: Grade 3 Mathematics grade_url = https://www.engageny.org/resource/grade-3-mathematics\n",
      "Grade: Grade 4 Mathematics grade_url = https://www.engageny.org/resource/grade-4-mathematics\n",
      "Grade: Grade 5 Mathematics grade_url = https://www.engageny.org/resource/grade-5-mathematics\n",
      "Grade: Grade 6 Mathematics grade_url = https://www.engageny.org/resource/grade-6-mathematics\n",
      "Grade: Grade 7 Mathematics grade_url = https://www.engageny.org/resource/grade-7-mathematics\n",
      "Grade: Grade 8 Mathematics grade_url = https://www.engageny.org/resource/grade-8-mathematics\n",
      "Grade: Algebra I grade_url = https://www.engageny.org/resource/high-school-algebra-i\n",
      "Grade: Geometry grade_url = https://www.engageny.org/resource/high-school-geometry\n",
      "Grade: Algebra II grade_url = https://www.engageny.org/resource/high-school-algebra-ii\n",
      "Grade: Precalculus and Advanced Topics grade_url = https://www.engageny.org/content/precalculus-and-advanced-topics\n"
     ]
    }
   ],
   "source": [
    "for grade_li in MATH_grades_lis:\n",
    "    grade_path = grade_li.find('a')['href']\n",
    "    grade_url = make_fully_qualified_url(grade_path)\n",
    "    print('Grade:', get_text(grade_li), 'grade_url =', grade_url)"
   ]
  },
  {
   "cell_type": "code",
   "execution_count": null,
   "metadata": {
    "collapsed": true
   },
   "outputs": [],
   "source": []
  },
  {
   "cell_type": "code",
   "execution_count": null,
   "metadata": {
    "collapsed": true
   },
   "outputs": [],
   "source": []
  },
  {
   "cell_type": "code",
   "execution_count": 4,
   "metadata": {
    "collapsed": true
   },
   "outputs": [],
   "source": [
    "## Debugging web_resource_tree.json"
   ]
  },
  {
   "cell_type": "code",
   "execution_count": 5,
   "metadata": {},
   "outputs": [
    {
     "name": "stdout",
     "output_type": "stream",
     "text": [
      "----\n",
      "WEB RESOURCE TREE: title: Engage NY Web Resource Tree (ELS and CCSSM)   len(children) = 0\n",
      "\n",
      "\n",
      "\n"
     ]
    }
   ],
   "source": [
    "def print_web_resource_tree(web_resource_tree):\n",
    "    print('----')\n",
    "    print('WEB RESOURCE TREE:', 'title:', web_resource_tree['title'], '  len(children) =', len(web_resource_tree['children']))\n",
    "    # print('      description:', web_resource_tree['description'][0:60]+'..')\n",
    "    for category in web_resource_tree['children']:\n",
    "        print('   - Category   title:', category['title']) # len(category['title']))\n",
    "        # print('           desciption:', category['description'][0:60]+'..') # len(category['description']))\n",
    "\n",
    "        for resource in category['children']:\n",
    "            # print(resource)\n",
    "            if 'kind' not in resource:\n",
    "                resource['kind'] = resource['type']\n",
    "            print('      - Resource (%s):' % resource['kind'], resource['title'])\n",
    "            for child in resource['children']:\n",
    "                # print(child)\n",
    "                print('         - Child (%s):' % child['kind'], child['title'])\n",
    "    print('\\n\\n')\n",
    "\n",
    "    \n",
    "\n",
    "with open(os.path.join(TREES_DATA_DIR,CRAWLING_STAGE_OUTPUT)) as json_file:\n",
    "    web_resource_tree = json.load(json_file)\n",
    "    print_web_resource_tree(web_resource_tree)\n",
    "\n"
   ]
  },
  {
   "cell_type": "markdown",
   "metadata": {},
   "source": [
    "## Calling chef method for debugging...\n"
   ]
  },
  {
   "cell_type": "code",
   "execution_count": 4,
   "metadata": {},
   "outputs": [
    {
     "name": "stderr",
     "output_type": "stream",
     "text": [
      "Crawling results stored in chefdata/trees/web_resource_tree.json\n"
     ]
    }
   ],
   "source": [
    "from engageny_chef import EngageNYChef\n",
    "chef = EngageNYChef()\n",
    "\n",
    "chef_args = None\n",
    "chef_options = {}\n",
    "chef.crawl(chef_args, chef_options)\n"
   ]
  },
  {
   "cell_type": "code",
   "execution_count": null,
   "metadata": {
    "collapsed": true
   },
   "outputs": [],
   "source": []
  },
  {
   "cell_type": "code",
   "execution_count": null,
   "metadata": {
    "collapsed": true
   },
   "outputs": [],
   "source": []
  }
 ],
 "metadata": {
  "kernelspec": {
   "display_name": "Python 3",
   "language": "python",
   "name": "python3"
  },
  "language_info": {
   "codemirror_mode": {
    "name": "ipython",
    "version": 3
   },
   "file_extension": ".py",
   "mimetype": "text/x-python",
   "name": "python",
   "nbconvert_exporter": "python",
   "pygments_lexer": "ipython3",
   "version": "3.6.2"
  }
 },
 "nbformat": 4,
 "nbformat_minor": 2
}
