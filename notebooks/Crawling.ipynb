{
 "cells": [
  {
   "cell_type": "code",
   "execution_count": 1,
   "metadata": {},
   "outputs": [],
   "source": [
    "import json\n",
    "import logging\n",
    "import os\n",
    "\n",
    "from bs4 import BeautifulSoup\n",
    "import requests\n",
    "import ricecooker\n",
    "\n",
    "from engageny_chef import get_text, get_parsed_html_from_url, make_fully_qualified_url\n",
    "from engageny_chef import ENGAGENY_CC_START_URL\n",
    "from engageny_chef import DATA_DIR, TREES_DATA_DIR, CRAWLING_STAGE_OUTPUT\n",
    "from engageny_chef import LOGGER\n",
    "LOGGER.addHandler(logging.StreamHandler())  # needed for logging in to work in notebook\n",
    "\n",
    "import pprint\n",
    "pp = pprint.PrettyPrinter(indent=4, width=80)"
   ]
  },
  {
   "cell_type": "code",
   "execution_count": null,
   "metadata": {},
   "outputs": [],
   "source": []
  },
  {
   "cell_type": "code",
   "execution_count": null,
   "metadata": {},
   "outputs": [],
   "source": []
  },
  {
   "cell_type": "code",
   "execution_count": 2,
   "metadata": {},
   "outputs": [
    {
     "data": {
      "text/plain": [
       "14"
      ]
     },
     "execution_count": 2,
     "metadata": {},
     "output_type": "execute_result"
    }
   ],
   "source": [
    "# basic reconaissance ... \n",
    "doc = get_parsed_html_from_url(ENGAGENY_CC_START_URL)\n",
    "\n",
    "dual_toc_div = doc.find('div', id='mini-panel-common_core_curriculum')\n",
    "ELA_toc = dual_toc_div.find('div', class_='panel-col-first')\n",
    "MATH_toc = dual_toc_div.find('div', class_='panel-col-last')\n",
    "MATH_grades_lis = MATH_toc.find_all('li')\n",
    "len(MATH_grades_lis)"
   ]
  },
  {
   "cell_type": "code",
   "execution_count": 3,
   "metadata": {},
   "outputs": [
    {
     "name": "stdout",
     "output_type": "stream",
     "text": [
      "Grade: Prekindergarten Mathematics grade_url = https://www.engageny.org/content/prekindergarten-mathematics\n",
      "Grade: Kindergarten Mathematics grade_url = https://www.engageny.org/resource/kindergarten-mathematics\n",
      "Grade: Grade 1 Mathematics grade_url = https://www.engageny.org/resource/grade-1-mathematics\n",
      "Grade: Grade 2 Mathematics grade_url = https://www.engageny.org/resource/grade-2-mathematics\n",
      "Grade: Grade 3 Mathematics grade_url = https://www.engageny.org/resource/grade-3-mathematics\n",
      "Grade: Grade 4 Mathematics grade_url = https://www.engageny.org/resource/grade-4-mathematics\n",
      "Grade: Grade 5 Mathematics grade_url = https://www.engageny.org/resource/grade-5-mathematics\n",
      "Grade: Grade 6 Mathematics grade_url = https://www.engageny.org/resource/grade-6-mathematics\n",
      "Grade: Grade 7 Mathematics grade_url = https://www.engageny.org/resource/grade-7-mathematics\n",
      "Grade: Grade 8 Mathematics grade_url = https://www.engageny.org/resource/grade-8-mathematics\n",
      "Grade: Algebra I grade_url = https://www.engageny.org/resource/high-school-algebra-i\n",
      "Grade: Geometry grade_url = https://www.engageny.org/resource/high-school-geometry\n",
      "Grade: Algebra II grade_url = https://www.engageny.org/resource/high-school-algebra-ii\n",
      "Grade: Precalculus and Advanced Topics grade_url = https://www.engageny.org/content/precalculus-and-advanced-topics\n"
     ]
    }
   ],
   "source": [
    "for grade_li in MATH_grades_lis:\n",
    "    grade_path = grade_li.find('a')['href']\n",
    "    grade_url = make_fully_qualified_url(grade_path)\n",
    "    print('Grade:', get_text(grade_li), 'grade_url =', grade_url)"
   ]
  },
  {
   "cell_type": "code",
   "execution_count": null,
   "metadata": {
    "collapsed": true
   },
   "outputs": [],
   "source": []
  },
  {
   "cell_type": "code",
   "execution_count": null,
   "metadata": {
    "collapsed": true
   },
   "outputs": [],
   "source": []
  },
  {
   "cell_type": "code",
   "execution_count": 4,
   "metadata": {
    "collapsed": true
   },
   "outputs": [],
   "source": [
    "## Debugging web_resource_tree.json"
   ]
  },
  {
   "cell_type": "code",
   "execution_count": 5,
   "metadata": {},
   "outputs": [
    {
     "name": "stdout",
     "output_type": "stream",
     "text": [
      "----\n",
      "WEB RESOURCE TREE: title: Engage NY Web Resource Tree (ELS and CCSSM)   len(children) = 0\n",
      "\n",
      "\n",
      "\n"
     ]
    }
   ],
   "source": [
    "def print_web_resource_tree(web_resource_tree):\n",
    "    print('----')\n",
    "    print('WEB RESOURCE TREE:', 'title:', web_resource_tree['title'], '  len(children) =', len(web_resource_tree['children']))\n",
    "    # print('      description:', web_resource_tree['description'][0:60]+'..')\n",
    "    for category in web_resource_tree['children']:\n",
    "        print('   - Category   title:', category['title']) # len(category['title']))\n",
    "        # print('           desciption:', category['description'][0:60]+'..') # len(category['description']))\n",
    "\n",
    "        for resource in category['children']:\n",
    "            # print(resource)\n",
    "            if 'kind' not in resource:\n",
    "                resource['kind'] = resource['type']\n",
    "            print('      - Resource (%s):' % resource['kind'], resource['title'])\n",
    "            for child in resource['children']:\n",
    "                # print(child)\n",
    "                print('         - Child (%s):' % child['kind'], child['title'])\n",
    "    print('\\n\\n')\n",
    "\n",
    "    \n",
    "\n",
    "with open(os.path.join(TREES_DATA_DIR,CRAWLING_STAGE_OUTPUT)) as json_file:\n",
    "    web_resource_tree = json.load(json_file)\n",
    "    print_web_resource_tree(web_resource_tree)\n",
    "\n"
   ]
  },
  {
   "cell_type": "markdown",
   "metadata": {},
   "source": [
    "## Calling chef method for debugging...\n"
   ]
  },
  {
   "cell_type": "code",
   "execution_count": 6,
   "metadata": {},
   "outputs": [
    {
     "name": "stderr",
     "output_type": "stream",
     "text": [
      "Crawling results stored in chefdata/trees/web_resource_tree.json\n"
     ]
    }
   ],
   "source": [
    "from engageny_chef import EngageNYChef\n",
    "chef = EngageNYChef()\n",
    "\n",
    "chef_args = None\n",
    "chef_options = {}\n",
    "chef.crawl(chef_args, chef_options)\n"
   ]
  },
  {
   "cell_type": "code",
   "execution_count": null,
   "metadata": {
    "collapsed": true
   },
   "outputs": [],
   "source": []
  },
  {
   "cell_type": "code",
   "execution_count": null,
   "metadata": {
    "collapsed": true
   },
   "outputs": [],
   "source": []
  }
 ],
 "metadata": {
  "kernelspec": {
   "display_name": "Python 3",
   "language": "python",
   "name": "python3"
  },
  "language_info": {
   "codemirror_mode": {
    "name": "ipython",
    "version": 3
   },
   "file_extension": ".py",
   "mimetype": "text/x-python",
   "name": "python",
   "nbconvert_exporter": "python",
   "pygments_lexer": "ipython3",
   "version": "3.6.1"
  }
 },
 "nbformat": 4,
 "nbformat_minor": 2
}
