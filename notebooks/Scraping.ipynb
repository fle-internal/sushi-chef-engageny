{
 "cells": [
  {
   "cell_type": "code",
   "execution_count": 1,
   "metadata": {},
   "outputs": [],
   "source": [
    "import logging\n",
    "import os\n",
    "import re\n",
    "from urllib.parse import urlparse, parse_qs\n",
    "import tempfile\n",
    "\n",
    "from bs4 import BeautifulSoup\n",
    "import requests\n",
    "\n",
    "from engageny_chef import get_text, get_parsed_html_from_url, make_fully_qualified_url\n",
    "from engageny_chef import LOGGER\n",
    "LOGGER.addHandler(logging.StreamHandler())  # needed for logging in to work in notebook\n",
    "\n",
    "from engageny_chef import ENGAGENY_LICENSE\n",
    "from le_utils.constants import content_kinds, file_formats, licenses\n",
    "\n",
    "import pprint\n",
    "pp = pprint.PrettyPrinter(indent=4, width=100)"
   ]
  },
  {
   "cell_type": "code",
   "execution_count": null,
   "metadata": {
    "collapsed": true
   },
   "outputs": [],
   "source": []
  },
  {
   "cell_type": "code",
   "execution_count": null,
   "metadata": {
    "collapsed": true
   },
   "outputs": [],
   "source": []
  },
  {
   "cell_type": "code",
   "execution_count": null,
   "metadata": {},
   "outputs": [],
   "source": []
  },
  {
   "cell_type": "code",
   "execution_count": null,
   "metadata": {
    "collapsed": true
   },
   "outputs": [],
   "source": []
  },
  {
   "cell_type": "code",
   "execution_count": 2,
   "metadata": {},
   "outputs": [
    {
     "name": "stdout",
     "output_type": "stream",
     "text": [
      "{   'children': [   {   'author': 'Engage NY',\n",
      "                        'description': 'Grade 6 Mathematics Module 4, Topic F, Lesson 18: Student '\n",
      "                                       'Version (442.48 KB)',\n",
      "                        'files': [   {   'file_type': 'DocumentFile',\n",
      "                                         'language': 'en',\n",
      "                                         'path': 'https://www.engageny.org/file/44251/download/math-g6-m4-topic-f-lesson-18-student.pdf'}],\n",
      "                        'kind': 'DocumentNode',\n",
      "                        'language': 'en',\n",
      "                        'source_id': 'https://www.engageny.org/resource/grade-6-mathematics-module-4-topic-f-lesson-18:math-g6-m4-topic-f-lesson-18-student.pdf',\n",
      "                        'thumbnail': None,\n",
      "                        'title': 'math-g6-m4-topic-f-lesson-18-student.pdf'},\n",
      "                    {   'author': 'Engage NY',\n",
      "                        'description': 'Grade 6 Mathematics Module 4, Topic F, Lesson 18: Teacher '\n",
      "                                       'Version (772.46 KB)',\n",
      "                        'files': [   {   'file_type': 'DocumentFile',\n",
      "                                         'language': 'en',\n",
      "                                         'path': 'https://www.engageny.org/file/44256/download/math-g6-m4-topic-f-lesson-18-teacher.pdf'}],\n",
      "                        'kind': 'DocumentNode',\n",
      "                        'language': 'en',\n",
      "                        'source_id': 'https://www.engageny.org/resource/grade-6-mathematics-module-4-topic-f-lesson-18:math-g6-m4-topic-f-lesson-18-teacher.pdf',\n",
      "                        'thumbnail': None,\n",
      "                        'title': 'math-g6-m4-topic-f-lesson-18-teacher.pdf'}],\n",
      "    'description': 'Grade 6 Mathematics           \\xa0\\xa0Prev  - Grade 6 Mathematics Module 4, '\n",
      "                   'Topic F, Overview         Next  - Grade 6 Mathematics Module 4, Topic F, '\n",
      "                   'Lesson 19',\n",
      "    'kind': 'TopicNode',\n",
      "    'language': 'en',\n",
      "    'source_id': 'https://www.engageny.org/resource/grade-6-mathematics-module-4-topic-f-lesson-18',\n",
      "    'title': 'Grade 6 Mathematics Module 4, Topic F, Lesson 18'}\n"
     ]
    }
   ],
   "source": [
    "from engageny_chef import download_math_lesson\n",
    "\n",
    "# Sample\n",
    "# sample_topic_url = 'https://www.engageny.org/resource/grade-6-mathematics-module-4-topic-f-overview'\n",
    "sample_lesson_url = 'https://www.engageny.org/resource/grade-6-mathematics-module-4-topic-f-lesson-18'\n",
    "\n",
    "lesson_node = download_math_lesson(sample_lesson_url)\n",
    "pp.pprint(lesson_node)"
   ]
  },
  {
   "cell_type": "markdown",
   "metadata": {},
   "source": [
    "## Calling chef method for debugging...\n"
   ]
  },
  {
   "cell_type": "code",
   "execution_count": 3,
   "metadata": {},
   "outputs": [
    {
     "name": "stderr",
     "output_type": "stream",
     "text": [
      "Finished building ricecooker_json_tree\n",
      "Scraping result stored in chefdata/trees/ricecooker_json_tree.json\n"
     ]
    }
   ],
   "source": [
    "from engageny_chef import EngageNYChef\n",
    "chef = EngageNYChef()\n",
    "\n",
    "chef_args = None\n",
    "chef_options = {}\n",
    "chef.scrape(chef_args, chef_options)\n"
   ]
  },
  {
   "cell_type": "code",
   "execution_count": null,
   "metadata": {
    "collapsed": true
   },
   "outputs": [],
   "source": []
  }
 ],
 "metadata": {
  "kernelspec": {
   "display_name": "Python 3",
   "language": "python",
   "name": "python3"
  },
  "language_info": {
   "codemirror_mode": {
    "name": "ipython",
    "version": 3
   },
   "file_extension": ".py",
   "mimetype": "text/x-python",
   "name": "python",
   "nbconvert_exporter": "python",
   "pygments_lexer": "ipython3",
   "version": "3.6.1"
  }
 },
 "nbformat": 4,
 "nbformat_minor": 2
}
